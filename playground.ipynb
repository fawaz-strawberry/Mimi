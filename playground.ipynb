{
 "cells": [
  {
   "cell_type": "code",
   "execution_count": 3,
   "metadata": {},
   "outputs": [],
   "source": [
    "import re\n",
    "\n",
    "class SimpleTokenizer:\n",
    "    def __init__(self):\n",
    "        self.token_to_id = {\"[PAD]\": 0, \"[UNK]\": 1}\n",
    "        self.num_tokens = 2\n",
    "    \n",
    "    # Fit the tokenizer onto the dataset\n",
    "    def fit(self, texts):\n",
    "        for text in texts:\n",
    "            for word in re.findall(r'\\w+', text):\n",
    "                if word not in self.token_to_id:\n",
    "                    self.token_to_id[word] = self.num_tokens\n",
    "                    self.num_tokens += 1\n",
    "\n",
    "    def tokenize(self, text):\n",
    "        return_list = []\n",
    "        for word in re.findall(r'\\w+', text):\n",
    "            return_list.append(self.token_to_id.get(word, 1))\n",
    "        return return_list\n",
    "        # return [self.token_to_id.get(word, 1) for word in re.findall(r'\\w+', text)]"
   ]
  },
  {
   "cell_type": "code",
   "execution_count": 18,
   "metadata": {},
   "outputs": [],
   "source": [
    "import torch\n",
    "from torch.utils.data import Dataset, DataLoader\n",
    "\n",
    "class TextDataset(Dataset):\n",
    "    def __init__(self, filename, is_multi_line=True, chunk_size=1024):\n",
    "        self.chunks = []\n",
    "        with open(filename, 'r', encoding=\"utf-8\") as f:\n",
    "            if is_multi_line:\n",
    "                self.chunks = f.readlines()\n",
    "            else:\n",
    "                while True:\n",
    "                    chunk = f.read(chunk_size)\n",
    "                    if not chunk:\n",
    "                        break  # eof\n",
    "                    self.chunks.append(chunk)\n",
    "\n",
    "    def __len__(self):\n",
    "        return len(self.chunks)\n",
    "    \n",
    "    def __getitem__(self, idx):\n",
    "        return self.chunks[idx]"
   ]
  },
  {
   "cell_type": "code",
   "execution_count": 19,
   "metadata": {},
   "outputs": [
    {
     "name": "stdout",
     "output_type": "stream",
     "text": [
      "[2, 3]\n"
     ]
    }
   ],
   "source": [
    "# Example Usage:\n",
    "texts = [\"Hello world!\", \"How are you?\"]\n",
    "tokenizer = SimpleTokenizer()\n",
    "tokenizer.fit(texts)\n",
    "tokenized_text = tokenizer.tokenize(\"Hello world!\")\n",
    "print(tokenized_text)  # Output: [2, 3]"
   ]
  },
  {
   "cell_type": "code",
   "execution_count": 22,
   "metadata": {},
   "outputs": [
    {
     "name": "stdout",
     "output_type": "stream",
     "text": [
      "Original text: t out of his mind. The ledge turned into the cliff and became a tunnel that had been carved into solid stone. The walls of the tunnel were as smooth as polished marble. What tools could men have used in the old days to cut a tunnel with walls so smooth that they looked like glass? Modern equipment could not have done the job so well. Niches in the wall of the tunnel admitted light and gave them glimpses of the island. \"Where the hell will we find -- Oh, Pedro!\" Retch spoke. The Indian messenger of the night before had appeared in the tunnel. He beckoned to them. They followed him into a large room cut out of solid stone. It was one of the cleanest and most simply furnished rooms Parker had ever seen. It contained handmade chairs along the wall and a big table, also hand-made. Light from a wall slit flowed into the room. Seated behind the table, illumined by tile light flowing in from the wall slit behind them, were Rozeno and Ulnar. Rozeno had a thin nose, the narrow face of the typical high bred Spaniard. Ul\n",
      "Tokenized text: None\n",
      "Original text: about the case. Any murder hitting the headlines brought at least one psycho out of the woodwork, driven by some deep-seated sense of guilt into making a phony confession. Those who were harmless were eased aside; the violent got detained for observation. But Naia North showed none of the signs of the twisted mind. She was coherent, attractive and obviously there was money somewhere in her vicinity. While the last two items could have been true of a raving maniac, Kirk was human enough to be swayed by them. \"I'm afraid,\" he said, \"you've come to the wrong man about this, Miss North.\" His smile was frank and winning enough to startle her. \"The case is out of my hands; has been since the District Attorney's office took over. Why don't you take it up with them?\" H er short laugh was openly cynical. \"I tried to, the day the trial ended. I got as far as a fourth assistant, who told me the case was closed, that new and conclusive evidence would be necesI exolf date, ive him new \"We met sever a! fell in love, I #...\n",
      "Tokenized text: None\n",
      "Original text: good to be a woman, darling, and to watch another woman be female skillfully.\" \"I quarrel with your use of the term 'skillfully,' \" he said, folding his napkin. \"Her 'skill' is analogous to an odor of musk or other such exudation in the lower animals.\" \"It is not she said flatly. \"With the lower animals, bait of that kind means one thing and one thing only, complete and final. With a woman, it means nothingof the kind. Never mind what it might mean; consider what it does mean. Do you think for a moment that the blonde in the convertible was making herself available to the policeman?\" \"She was hypothesizing a situation in which -- #  \"She was hypothesizing nothing of the kind. She was blatantly and brazenly getting out of paying a traffic fine, and that was absolutely all. And you can carry it one step further; do you think that for one split second the policeman actually believed that she was inviting him? Of course he didn't! And yet that situation is one that has obtained through the ages. Women have always\n",
      "Tokenized text: None\n",
      "Original text: se. He wondered what she would do with all those points. What did anybody do with them? Everybody had about the same living quarters. Food was furnished by automatic venders at the Hydroponic Farms. Clothes were provided, readymade; all you had to do was put your credit card in a machine, punch the buttons for your measurements, and a suit would drop down the chute. Mark got out of the chair and helped her inside with it. He took off his hat and started uncertainly to leave, but she put her hand on his arm, \"No, no. Have supper with me. I'll tell you all about everything. Glad to. There aren't many who want to know about things any more.\" Her apartment was neat and clean. It was hard for Mark to connect it with an old woman shrieking points at him. \"My name's Pearl. Point-Plus-Pearlie, they call me. But my real name's Penelope. You can call me Penelope.\" \"Thank you,\" Mark said gravely, and sat down. Penelope bustled intoan apron and began pulling packages from the. freezer. \"We'll have a feed, you and I -- a \n",
      "Tokenized text: None\n",
      "Original text: woman was coming out of a doorway, loaded down with packages. Conger stepped aside to let her pass. The woman glanced at him. Suddenly her face turned white. She stared, her mouth open. Conger hurried on. He looked back. What was, wrong wdth her? The woman was still staring; she had dropped the packages to the ground. He increased his speed. He turned a second corner and went up a side street. When he looked back again the woman had come to the entrance of the street and was starting after him. A man joined her, and the two of them began to run toward him. He lost them and left the town, striding quickly, easily, up into the hills at the edge of town. When he reached the cage he stopped. What had happened? Was it something about his clothing? His dress? He pondered. Then, as the sun set, he stepped into the cage. Conger sat before the wheel. For a moment he waited, his hands resting lightly on the control. Then he turned the wheel, just a little, following the control readings carefully. The grayness settled \n",
      "Tokenized text: None\n",
      "Original text: low sun that could have been anywhere in the galaxy. \"Hugh,\" she said after a moment, \"do you really believe that thousands of years have gone by, outside?\" \"I don't know what to believe. I only know what the plates show.\" \"That may not even be Sol, up ahead,\" she said doubtfully. \"We niay be in some other part of space altogether, and that's why the charts are different.\" \"Perhaps. But either way we're lost. Lost in space or in time or in both. What does it matter?\" \"If we're just lost in space it's not so -- ;So irrevocable. We could still find our way back to Earth, maybe.\" He didn't answer. He looked up at the screen and the circle of light and his lips tightened. Whatever the truth was, they didn't have long to wait. They'd be within gravitational range in less than an hour. He wondered why he was reacting so differently from the others. He was just as afraid as they were. He knew that. But he wasn't fighting the thought that perhaps they had really traveled out of their own time. He wondered what it was\n",
      "Tokenized text: None\n",
      "Original text: ven o'clock. It was Arthur Kahler Troy at the other end and the IX A. was too angry to be coherent. It seemed Naia North had disappeared from her locked cell during the night. fifiT don't give a triple-distilled J, damn what you say!\" Troy snarled. \"Nobody's got enough money to make that kind of payoff. Five men,. Lieutenant -- five men and five locked doors stood between that girl and the street. And you sit there and try to tell me somebodybought all five of 'em off!\" \"Then,\" Kirk said heatedly, \"what's your explanation?\" It had been going on this way for over an hour. The morning sun came in weakly at the window behind Troy's huge polished mahogany desk, picking up random reflections from the collection of expensive gadgets littering the glass top. Troy began to wear another path in the moss-colored broadloom carpeting. He was big and broad and getting puffy around the middle, like a one-time halfback going to seed. His round, heavyfeatured face was even more .florid than usual, and his heavy growth of red\n",
      "Tokenized text: None\n",
      "Original text:  against the brass rail of the portable bar. Those who didn't faint contributed variously tonated screams to the general unrest. And over all this brooded the dank clouds of acrid dust that Ijjad so lately been Cement Mixgr Zinsky and certain members of his mob. Indeed, the scene took on a startling semblance to one of Dore's etchings in an old edition of Dante's Inferno. \"I repeat,\" Bag Ears bleated plaintively. \"Leave us blow this joint. It ain't healthy here.\" \"He's right,\" Joy said. \"A lot. of explanation is wanting. There are some people we've got to catch up with. Let's go.\" With that, she drew Bag Ears and me toward the French doors through which had recently passed some of the fastest moving objects in this or any other world. We made the flag-stone terrace above the drive where Bag Ears cordially grasped my hand and said, \"Well, it was a nice party, folks, and if I ever get spliced I'll sure give you a invite and I sure had a swell time and remember me to your aunt when she wakes up and- -- \" He was \n",
      "Tokenized text: None\n",
      "Original text: and. Would he gain, or would he lose the last cha;ice for ultimate victory by setting off the explosive? During the rare moments when his mind Cleared, Koski realized the small chance the Campaign would have. At such times the Weapon beckoned. He knew then that the Campaign would never be completed in his lifetime. Wagner, however, was a very good man, with all the ideals of his country He would carry on. It needed only a slight variation in the trend of events, to tip that scale one way or the other. Even now the General held the bottle of aqua fords in his hand -- undecided. The fate of the world teetered. \"You aren't so pretty anymore,' Wagner said. \"Neither are you,\" Buckmaster answered through battered, bloody lips. He Wondered where he found the strength to keep taunting Wagner. He could feel that his face was a lumpy mess. One eye was closed and blood, running down into the other, kept blinding him. Every muscle in his body ached from the pounding it had taken, and he sus pected that his left arm was b\n",
      "Tokenized text: None\n",
      "Original text: snarl. There was no time for Wingfield now. Corrigan leaped forward, shoving him out of the way. One hand scooped up the rifle even as he was turning. The beast leaped from the boulder as Corrigan raised the rifle. The black body was above him when he slapped the trigger bar. A ball of white fire whined upward and smashed into the black stomach. The beast squalled as Corrigan dived from its path. Then it was gone. Corrigan's shot had saved his own life but it hadn't bagged the game. Shaken, he turned to Wingfield who wis nodding his head vacantly. \"Why didn't you use the rifle?\" Corrigan said angrily. \"I couldn't. My little boy Tommy was standing right there with Jane -- plain as day.\" He pointed at the boulder. \"You're crazy,\" Corrigan said. He felt weak and terrified from the experience. He wondered if he had killed the beast or merely wounded it. \"We'd better get back to the ship,\" he said. Wingfield nodded emptily. \"I'm sure it was they,\" he said. Corrigan had his own ideas. As he trudged along, he though\n",
      "Tokenized text: None\n",
      "Original text: lebes. Your job is to reach that island and find out what's going on, and then bring the information back. Clear?\" We nodded. We had received a similar briefing in Washington, and from a far more distinguished personage than Major Reid, but we felt no need of mentioning this. In such a business, gratuitous information, even to friends, serves no useful end. ington had told us a good many other things, too. In the name of New Buddhism, the priests had been collecting immense quantities of supplies, and on an increasing scale. Tons of foodstuffs had been gathered and then shipped off to an unknown destination. Machinery, lumber, structural steel, canvas by the thousands of yards had been purchased, loaded onto ships and barges, and spirited away. It appeared that the New Buddhists were maintaining a standing army, or perhaps a labor force somewhere east of Borneo, but the picture was very incomplete. Part of the failure of ordinary methods of intelligence may have been due to the supersecrecy of the New Buddhis\n",
      "Tokenized text: None\n",
      "Original text: the slope. \"Are you sure we're on the right island?\" asked Chamberlin. \"From the security measures I don't think we're going to find anything more secret than a copra plantation.\" Baker shushed him, and whispered back, \"We're on the right island, but that's the only thing that's right. This is simply too easy to be true.\" \"Well,\" said Martin, \"Stimson could be all wet. Maybe they're just sculping a king sized Buddha after all.\" The slope had now steepened considerably, and further conversation died out in the effort of climbing. The volcano was heavily forested all the way up with mahogany and guru trees, and a dense undergrowth of vines and ferns entangled our feet. Twice we came upon rapidly flowing streams. We were perhaps two thirds of the way up when the moon appeared. Its light didn't penetrate very far into the dense foliage, but it did enable us to make out the top of the mountain, which took the form of a vine covered outcrop of lava. We altered our course slightly, and at #:# P.M. the forest fell aw\n",
      "Tokenized text: None\n",
      "Original text:  saying that you killed Sanford Smith?\" \"Of course.\" The Coroner glanced at his sixman jury, at the two police officers, at the scattering of spectators. They all seemed stunned. Even the reporter sent to cover the hearing made no move toward the telephone. The Coroner could think of only the obvious question: \"Why did you kill him?\" \"He was dangerous to us.\" \"Whom do you mean by us?\" \"We Martians, who plan to take over your world.\" The Coroner was disappointed. A lunatic. But a lunatic can murder. Best to proceed, the coroner thought. \"I was not aware that we have Martians to contend with.\" \"If I'd had the right weapon to use on Cole, you wouldn't be aware of it now. We still exercise caution.\" The Coroner felt a certain pity. \"Why did you kill Smith?\" \"We Martians have found science-fiction writers to be our greatest danger. Through the medium of imaginative fiction, such writers have more than once revealed our plans. If the public suddenly realized that -- \" killed Smith because he revealed something in h\n",
      "Tokenized text: None\n",
      "Original text: harm was done. After breakfast the men went back outside. Jim moved automatically toward a chair. Then he stopped and frowned. He straighten deliberately. He tunicd and looked at his brother. I I s.iid, \"Hugh. You're a man that knows. What's wrong? What did those bombs do to us? Tell me. I've got to know.\" Hugh was silent for a time. Then he said, \"Feel up to a walk?\" \"Certainly. Why not?\" They went to the edge of town and out into a pasture and stopped finally by a brook where the water flowed sluggishly. After a while, Hugh said, \"I'm not supposed to tell anybody anything, but somehow it doesn't seem decent -- keeping the truth from your own brother. And what difference does it make -- really?\" \"What's happened, Hugh.\" \"There W'eren't any bombs.\" \"No bombs.\" \"It happened this way. Long before this Earth was formed, a million light years out in space, a white dwarf died violently.\" \"You're talking in riddles.\" Hugh looked up into the blue sky. \"A dwarf star, Jim. So incredibly heavy, it would be hard for you\n",
      "Tokenized text: None\n",
      "Original text: g out jets, halos, and emission fans. Sometimes a comet gets so active it may split in two. A comet glows with a soft ghostly radiance quite different from the appearance we should expect if shown merely by reflected sunlight. What is the source of its luminosity? We now believe that comets shine for essentially the same reason that certain billboards gleam so brightly -- fluorescence. Ultra-violet light or ordinary sunlight shining upon certain chemicals will make them emit a glow usually of longer wave-length than the light they have absorbed. Similarly, the gases of a comet absorb light from the sun and then emit it agciin. For example, a carbon molecule in a comet absorbs a blue ray from sunlight and then emits the same blue ray into space. Thus the spectrum of a comet shows a series of bright bands due to the light emitted by different molecules that have been excited to luminosity by the sun. This theory has been quite successful in accounting for the brightness of comets. But when we try to apply it to\n",
      "Tokenized text: None\n",
      "Original text: wed up. \"When I saw there was no one in the main hall of the building itself, I simply walked out and left by another exit. No one I passed even noticed me.\" F or a long time after Naia North had finished speaking, Martin Kirk sat as though carved from stone, staring blindly into space. She knew he was thinking furiously, weighing the plausibility of what he had heard, trying to arrive at some method of corroborating it in a way that would stand up in a court of law. \"Miss North.\" She came out of a reverie with a start, to find the Lieutenant's eyes  boring Into hers. \"This shiny hunk of metal you used : where is it now?\", \"Fra sure I wouldn't know. Probably some place in the laboratory, unless somebody took it away. I do seem to remember picking it up and tossing it back with several others like it on the bench.\" \"Then it's still there,\" he said slowly. \"Judge Reed ordered the room sealed up until after the trial. And then there's the closet... , . Were you wearing gloves that afternoon, Miss North?\" She sai\n",
      "Tokenized text: None\n",
      "Original text: m. There would be no more communication between them except for signs. In an hour they had determined the truth. All passengers but one, a woman, had been killed instantly. The woman was unconscious, but suffering only from bruises. It had been necessary, after discovering her unpierced cabin, to return to the deck above and cut through with a torch. When she regained consciousness and saw her rescuers, she screamed. \"That'll give us some idea of how the people back on Earth will receive us\" said Gene. \"If we get there, that is.\" Later, in the control room, Maher and MacNamara gave their report. \"We can make it,\" said Mac  Namara, \"but we'll come in limping like a wounded moose. If any of the Company ships sight us, we'll be a sitting duck. But maybe it will be better that way. This is like war, and some of us must die ...\" His voice trailed off in a mumble. r \"Some of us are dying,\" said Maher. \"But he's right, Gene; we can make it, with luck. We'll not be able to come in fast, nor land in the city, but we'l\n",
      "Tokenized text: None\n",
      "Original text: My orders are explicit and fully cover the situation. My orders to you are equally explicit. Go out there and teach the bloody bastards a lesson.\" He turned back to the men in I. C. \"Scramble flights one, two, three, and four. Others to follow at intervals of five minutes until all are in space. Flight plan King Baker. Initial Time, one four five oh. Execute.\" The talkers took up the chant. \"Flight one. Flight one. Scramble. Scramble. Execute.\" \"Flight two... Etc. In the tank, green points of light moved out. The first four came into position and stopped in the four quadrants of the circle of which the center was the point at which the enemy would be at Initial Time. The following flights moved out to other points on the circle. Time seemed to stop. In I. C., the Flight Directors gave the orders that moved their flights into position and briefed them on future tactics in quiet voices. The electronic computers and other devices moved silently. The clock made no noise as its hands moved towards the final moment\n",
      "Tokenized text: None\n",
      "Original text: she must have been reared in hell.\" Again, Kevin shrugged. \"It's open to question, boy. I don't like T. J., but I like working for her. You take a man like LeClarc, he'll die for T. J. All she'd have to do is ask him, and he'd die. You see, boy, big game hunters don't come any smarter. Trouble is, T. J. knows it and flaunts it. Also, she's a woman but she's strong as a man and knows that, too. She dares you to fight her every step of the way, and it takes a big man to -- \" \"I thought you said Charlie was the best!\" \"And I still do. But a man's got to have some flaws. Maybe he couldn't take T. J. and had to let her know. The same thing happened to you, after only five minutes. The gals have won their spurs in every field which was strictly masculine a hundred years ago. Men tend to resent that, especially when a talented woman like T. J. let's them know it, and no bones about it. So, that's T. J.\" \"Yeah,\" said Steve, frowning. \"That's Teejay.\" \"What's the trouble, boy?\" \"I've got to find out what happened to C\n",
      "Tokenized text: None\n",
      "Original text: n the precaution of isolating himself from his family. He knew there was no hope for him now. They sent the black wagon for him. In the hospital he found himself herded with several hundred others into a ward designed to hold less than a hundred. The beds were crowded together and he could have reached to either side of him and touched another ravaged victim of the Plague. Next to go would be his sense of sight. Hope was a dead thing within him. Even to think of hoping made him realize how futile it would be. He screamed when the walls of darkness began to close in around him. It was the middle of the afternoon and a shaft of sunlight fell across the grimy blankets on his bed. The sunlight paled, then darkened , and wasgone. He screamed again. And again. He heard them move him to the death ward then, but he could not even feel their hands upon him. Three days later his tongue refused to form words. He fought a nameless terror as he strove with all the power of his will to speak. If he could say only one word,\n",
      "Tokenized text: None\n",
      "Original text:  no choice. What have you got to lose?\" He was a cool character. Buckmaster shrugged. He hated this playing it blind, but the fellow was right. he said. \"You might as well take your hands down. Let's go.\" They went down the stairs. At the rear exit Gamoll looked out. He wore no hat. The wind from the alley fluffed the hair on the side of his head. \"All clear \" Gamoll said. \"Make a dash for it. When you get in tiie carriage lie low. Now!\" The die was cast, Buckmaster decided. He'd play It to the hilt now, all or nothing. He sprinted across the dirt of the alley and jerked open a door of the carriage. He threw himself inside and hugged the floor. Soon the carriage began to roll. When they had travelled about a half block it stopped. Buckpi aster drew in his breath. This was the critical point. If Gamoll could bluff his way through now the rest would be comparatively easy. \"Give me an escort, Captain,\" he heard Gamoll say. \"I don't want to get tied up here. I understand there's gQing to be some shooting soon.\" \"\n",
      "Tokenized text: None\n",
      "Original text: s among the coveralled men that Steve found  himself whistling softly. 'T never expected to find a girl here,\" he admitted. \"Not on this expedition.\" \"What's the matter, are you old fashioned? This is the twenty-second century, the enlightened century, remember? There's nothing a girl can't do if she sets her mind to it. A recent survey shows that forty-percent of the homemakers in the U.S.N.A. are men, sixty percent women. Okay, it's only logical that some of the remaining forty percent of females have some tough jobs, too.\" \"I read the books of the feminist movement,\" Steve assured her. \"But it's going to take a lot to convince me of that. Me and a lot of other people, I suspect.\" \"Is that so, Mr. Smart-guy? Are you a member of the expedition?\" \"Yes.\" \"Well, anytime you want to hustle down to the gym with me and go a few rounds, let me know.\" \"Are you serious?\" \"Of course I'm serious.\" \"Well,\" Steve said, deciding to change the subject and feeling utterly ridiculous about the whole conversation, \"let's forg\n",
      "Tokenized text: None\n",
      "Original text:  recognized at once the great hall in which he had danced that last night with Clair. Ipw Clair was gone. The place was crowded -- probably the ship's entire population. Lindquist led him through the crowd, and he could not tell what their faces showed. There were mumblings of \"Lazarus\" and \"king\" -- but why did he get the faint suggestion of mockery? Oddly, what Laurie said had troubled him -- he had had a bad night's sleep, and it left him irritable. Poor girl. He wondered how many more there were like her. Well, in time he could find out, after this nuisance of a coronation had become history. \"Ah, Taine,\" Captain Larkin said as Lindquist brought him to the dais. \"As you can see, all the people are ready. I hope you won't think the ceremony foolish. Are you ready?\" Eric nodded, watched a man raise trumpet to lips, blow one clarion note. A hush fell over the hall. \"I am honored to present King Lazarus Seven to you,\" Larkin proclaimed in a loud clear voice. \"He has been sent, as you know, by the planners.\" H\n",
      "Tokenized text: None\n",
      "Original text: e jumped. Nobody was allowed to fly into the hinterland to see where they were coming from. And when I tried to get officials to consider it, they absolutely refused. Up there, it was hinted, were secret government projects -- besides they were too far away -- and radio said there was no sign of anything unusual there. It was worth even a general's job to poke his nose in near those projects. And how could I tell these people traitorous men of their own government were the culprits? It just wasn't possible -- and because I had to stay on the scene, I never even hinted it. I merely waited my chance to produce proof. I knew I'd get it, sooner or later. Something would come out of that jungle I'd be able to use to convey the real menace to the knowledge of a puzzled world. I wrote carefully, reporting the weird war with the animal world -- and I kept inserting paragraphs hinting about Stcgner and his growth field, adding \"rumors\" that maybe his work had been taken over by a power-mad clique and it was they who w\n",
      "Tokenized text: None\n",
      "Original text: ng with barbed tentades spread and yellow eyes studying him glassily. He heard the unmistakable flapping of wings behind and above him then, and thought with shock-born lucidity; # wanted a backstage look at this show, and now I'm one of the cast. The scouter roared in from the west across the thorn forest, flashing so close above his head that he felt the wind of its passage. Almost of its emergency bow jets as Gibson met the lizard swarm head on. Gibson's voice came tinnily from the audicom. \"Scattered them for the moment, Arthur -- blinded the whole crew with the exhaust, I think. Stand fast, now. I'm going to pick you up.\" The scouter settled on the outcrop beside Farrell, so close that the hot wash of its exhaust gases scorched his bare legs. Gibson put out thick brown arms and hauled him inside like a straw man, ignoring the native. The scouter darted for shore with Farrell lying across Gibson's knees in tfie cockpit, his head hanging half overside. Farrell had a last dizzy glimpse of the islet against \n",
      "Tokenized text: None\n",
      "Original text: hmen, could have ignored that evidence! Tamu won't like this.\" \"I can't help it, Orin. I keep telling you, Orin: you must use a new set of standards for this world. If its people thought as yours do, none of these unpleasant things would have to happen.\"  A nother pause before the man's voice came over Kirk's earphones. \"We didn't dare leave Naia in their hands. That's why we brought her back here. Look at the chance we took by permitting them to hold her even briefly. If only she hadn't blundered in the first place... \" His voice trailed off, then came back suddenly brisk. \"Well, too late for regrets. We won't risk letting them question you. Field Seven in, say, three hours. Time enough?\" \"More than enough!\" Her relief was unmistakable. \"It'll be wonderful visiting Mythox again, Orin. I hope Methu will allow me to stay for a long time.\" t \"I hope so too, darling. But our work comes first; none of us dares let down for even a moment... See you soon. And don't neglect to eliminate the contrabeam.\" \"It will be \n",
      "Tokenized text: None\n",
      "Original text: Our air won't last forever,\" Teejay said. \"He's got even less.\" \"Ten more minutes?\" \"All right, ten. But why did you come out here with me if you're ready to give up so easy?\" \"Who said I am? I'm trying to be practical, Mac. Listen, I saved Stedman's life once already -- and stayed out on the hot side of Mercury longer than a person should, too. I like Stedman, but if we ever find him, better not say that or I'll break your neck, hear? So I want to find him, but I don't want to sacrifice your life or mine in the attempt. Is that clear?\" Kevin said that it was. A moment later, Teejay climbed higher. Half a thousand feet above the surface of Ganymede she circled. Abruptly, she leveled off t a hundred feet again, said: \"There's something over there, Mac. In that ringwall.\" \"What?\" \"I don't know. Movement. A big figure # ind a little one. The big one seems too large for a man, but the smaller -- well,det's go.\" The anthrovac paused a dozen yards from Steve. There had been nothing hostile in its movements to begin\n",
      "Tokenized text: None\n",
      "Original text: arcely more than apes. Their language consisted of perhaps two hundred words. They used fire when they 'found it; clubs and levers and sharp sticks their only tools. \"To us, they were only animals, potentially useful. We bred them selectively, weeding out the ferocious, saving the placid, the clever, the telepathically apt. The hairlessness was a concession to the beauty-standards of our more egocentric ancestors. Look at them, Morgun Sahl. Your rather distant cousins -- human, I think, but different in that they lack your aggressiveness and egotism. Their development has paralleled your own in some respects, in others it has differed. They belong to us now, by their own wish. Does it still horrify you?\" Sahl remained silent, knowing that the Piszjil could feel the flood of suppressed anger about him. \"As for this park,\" the creature went on, \"we regard it as philanthropic. Our own young reach maturity in similar gardens on other tablelands. That should convey to you that we do not see our relationship with t\n",
      "Tokenized text: None\n",
      "Original text: d swinging him across her back in a fireman's carry. He felt in no mood to question her motive, but he could sense the triumph in her as if she had said, \"See, I'm as strong, as a man, and don't you forget it.\" In spite of himself, he couldn't help responding to the unspoken challenge. \"Sure,\" he said, \"I can thank the feminist movement, but more than that I can thank Mercury's light gravity, Teejay. We're lucky I don't weigh more than fifty pounds here.\" An hour later they arrived back at Furnace town, buf by then Steve was unconscious from the pain. X X boy?\" It was Kevin Me- Gann, the battered, unlit pipe clamped tightly between his teeth as he spoke. Steve sat propped up in a bed in the Gordaks infirmary, his left leg wrapped in bandages from knee to ankle. \"Pretty good, I guess. Kind of weak, but there's no pain.\" \"You're lucky the Captain got you back here in time. Four inches of your calf was cooked third degree, but she carried you back here soon enough to cut it away before deep decomposition, and sp\n",
      "Tokenized text: None\n",
      "Original text: ngs and saw there intelligence and pleading misery. And he passed on, ashamed of what one people can do to another people. Something stirred within his body. He lurched a little and pressed his hand against his head. His shoulders twitched. When a man is sick, he thought, he cannot work. And when a man cannot work, he is not wanted. He stepped into the street and a huge Control truck grounrd to a stop inches before him. He walked away jerkily, leaped upon the sidewalk. Someone shouted and he ran. Now the photo-cells would follow him. He tried to lose himself in the moving crowds. People whirled by, an endless blur of faces and bodies. They would be searching now. When a man stepped in front of a vehicle he was suspect. To wish death was not allowed. He had to escape before they caught him and took him to the Adjustment Center. He couldn't bear that. People and robots rushed past him, messengers, delivery boys, the bottom level of an era. All going somewhere. In all these scurrying thousands, only he had no pl\n",
      "Tokenized text: None\n",
      "Original text:  to dust off his type K suit. Mark lay half on the curb, half off, squirming like a broken-back snake. \"My back,\" he moaned piteously. \"Oh, my back.\" The little man seemed paralyzed at the enormity of the thing he had done. He stared at Mark and Mark squirmed harder and moaned louder. Then Penelope hobbled up and pulled Mark's shirttail out of his trousers. The iodine spot on his back looked yellow and purple, and there were gasps from the crowd. \"He did it!\" Mark said, glaring accusingly at the little man. \"He tripped me. He tripped me and broke my back!\" Penelope was putting on a good act too, crying and wringing her hands and moaning. \"My poor boy!\" she said, over and over. A woman in the crowd came up and made a very expressive raspberry in the little man's face. The little man was not only bewildered; he was frightened. Mark adjudged the time had come. \"Points for my broken back!\" he cried. Penelope held out a slip to the little man. He signed it dazedly. then he slipped out of the crowd, while three men\n",
      "Tokenized text: None\n",
      "Original text: ic, followed by speeches from delegates of Afghanistan, Albania, and Algeria, and then the meeting adjourned. A guirre was relaxing in the bar when his glorious chidf stalked in and rode up to him. \"Aguirre,\" said la Torre, \"we leave tomorrow. Are you ready?\" \"Carajo! Why, chief?\" \"I have received word that my enemies conspire against me, so I must get back to Andea at once.\" \"But you will miss the final ratification!\" \"No; I have arranged it with Kalish and Carstairs-Brown. The Drafting Committee shall work all night and present the Constitution tomorrow morning to a special session. Then I will make my speech -- Andea comes alphabetically after Algeria -- and we shall rush to the airport as soon as I have finished. Get packed.\" \"Yes, yes, chief, of course.\" And so it was done. La Torre's airplane was over Venezuela when the radio broke the news that the arrival of the extra-terrestrial space-ship had been a hoax after all, perpetrated by a group of journalists including Dagobert Heck and Richard Nugent. The\n",
      "Tokenized text: None\n"
     ]
    }
   ],
   "source": [
    "# Usage:\n",
    "dataset = TextDataset('datasets/iac_mini.txt', is_multi_line=False)\n",
    "dataloader = DataLoader(dataset, batch_size=32, shuffle=True)\n",
    "\n",
    "texts = dataset.chunks\n",
    "tokenizer.fit(texts)\n",
    "\n",
    "# Process data in batches\n",
    "for batch in dataloader:\n",
    "    for line in batch:\n",
    "        tokens = tokenizer.fit(line)\n",
    "        print(f\"Original text: {line}\")\n",
    "        print(f\"Tokenized text: {tokens}\")\n",
    "    break"
   ]
  },
  {
   "cell_type": "code",
   "execution_count": null,
   "metadata": {},
   "outputs": [],
   "source": []
  }
 ],
 "metadata": {
  "kernelspec": {
   "display_name": "Python 3",
   "language": "python",
   "name": "python3"
  },
  "language_info": {
   "codemirror_mode": {
    "name": "ipython",
    "version": 3
   },
   "file_extension": ".py",
   "mimetype": "text/x-python",
   "name": "python",
   "nbconvert_exporter": "python",
   "pygments_lexer": "ipython3",
   "version": "3.10.6"
  }
 },
 "nbformat": 4,
 "nbformat_minor": 2
}
